{
 "cells": [
  {
   "cell_type": "code",
   "execution_count": 1,
   "metadata": {},
   "outputs": [],
   "source": [
    "from numpy import mean"
   ]
  },
  {
   "cell_type": "code",
   "execution_count": 2,
   "metadata": {},
   "outputs": [],
   "source": [
    "#Data \n",
    "revenue = [14574.49, 7606.46, 8611.41, 9175.41, 8058.65, 8105.44, 11496.28, 9766.09, 10305.32, 14379.96, 10713.97, 15433.50]\n",
    "expenses = [12051.82, 5695.07, 12319.20, 12089.72, 8658.57, 840.20, 3285.73, 5821.12, 6976.93, 16618.61, 10054.37, 3803.96]"
   ]
  },
  {
   "cell_type": "code",
   "execution_count": 3,
   "metadata": {},
   "outputs": [
    {
     "data": {
      "text/plain": [
       "[2522.67,\n",
       " 1911.3900000000003,\n",
       " -3707.790000000001,\n",
       " -2914.3099999999995,\n",
       " -599.9200000000001,\n",
       " 7265.24,\n",
       " 8210.550000000001,\n",
       " 3944.9700000000003,\n",
       " 3328.3899999999994,\n",
       " -2238.6500000000015,\n",
       " 659.5999999999985,\n",
       " 11629.54]"
      ]
     },
     "execution_count": 3,
     "metadata": {},
     "output_type": "execute_result"
    }
   ],
   "source": [
    "# Calculate Profit = Revenue - Expenses\n",
    "profits = [rev - exp for rev, exp in zip(revenue, expenses)]\n",
    "    \n",
    "profits"
   ]
  },
  {
   "cell_type": "code",
   "execution_count": 4,
   "metadata": {
    "pycharm": {
     "name": "#%%\n"
    }
   },
   "outputs": [
    {
     "data": {
      "text/plain": [
       "[1765.87,\n",
       " 1337.97,\n",
       " -2595.45,\n",
       " -2040.02,\n",
       " -419.94,\n",
       " 5085.67,\n",
       " 5747.39,\n",
       " 2761.48,\n",
       " 2329.87,\n",
       " -1567.06,\n",
       " 461.72,\n",
       " 8140.68]"
      ]
     },
     "execution_count": 4,
     "metadata": {},
     "output_type": "execute_result"
    }
   ],
   "source": [
    "# Calculate Profit After Tax (30%)\n",
    "tax_rate = 1 - 0.30 # Get the Remaining Percentage \n",
    "\n",
    "tax_profit = [round((profit*tax_rate), 2) for profit in profits]\n",
    "\n",
    "tax_profit"
   ]
  },
  {
   "cell_type": "code",
   "execution_count": 5,
   "metadata": {},
   "outputs": [
    {
     "data": {
      "text/plain": [
       "[12.12,\n",
       " 17.59,\n",
       " -30.14,\n",
       " -22.23,\n",
       " -5.21,\n",
       " 62.74,\n",
       " 49.99,\n",
       " 28.28,\n",
       " 22.61,\n",
       " -10.9,\n",
       " 4.31,\n",
       " 52.75]"
      ]
     },
     "execution_count": 5,
     "metadata": {},
     "output_type": "execute_result"
    }
   ],
   "source": [
    "# Calculate Profit Margin = Tax After Profit / Revenue * 100\n",
    "profit_margin = [round((tax/rev)*100, 2) for (tax, rev) in zip(tax_profit, revenue)]\n",
    "profit_margin"
   ]
  },
  {
   "cell_type": "code",
   "execution_count": 6,
   "metadata": {},
   "outputs": [
    {
     "data": {
      "text/plain": [
       "[True, False, False, False, False, True, True, True, True, False, False, True]"
      ]
     },
     "execution_count": 6,
     "metadata": {},
     "output_type": "execute_result"
    }
   ],
   "source": [
    "# Calculate List of Good Months = if Tax After Profit > Mean of Tax After profit\n",
    "mean_year = mean(tax_profit)\n",
    "good_months = [tax > mean_year for tax in tax_profit]\n",
    "\n",
    "good_months"
   ]
  },
  {
   "cell_type": "code",
   "execution_count": 7,
   "metadata": {},
   "outputs": [
    {
     "data": {
      "text/plain": [
       "[False, True, True, True, True, False, False, False, False, True, True, False]"
      ]
     },
     "execution_count": 7,
     "metadata": {},
     "output_type": "execute_result"
    }
   ],
   "source": [
    "# Calculate List of Bad Months = if Tax After Profit < Mean of Tax After profit\n",
    "bad_months = [tax < mean_year for tax in tax_profit]\n",
    "\n",
    "bad_months"
   ]
  },
  {
   "cell_type": "code",
   "execution_count": 8,
   "metadata": {},
   "outputs": [
    {
     "data": {
      "text/plain": [
       "[False,\n",
       " False,\n",
       " False,\n",
       " False,\n",
       " False,\n",
       " False,\n",
       " False,\n",
       " False,\n",
       " False,\n",
       " False,\n",
       " False,\n",
       " True]"
      ]
     },
     "execution_count": 8,
     "metadata": {},
     "output_type": "execute_result"
    }
   ],
   "source": [
    "# Calculate List of Best Months = if Tax After Profit == Max of Tax After profit\n",
    "\n",
    "max_year = max(tax_profit)\n",
    "best_months = [tax == max_year for tax in tax_profit]\n",
    "\n",
    "best_months"
   ]
  },
  {
   "cell_type": "code",
   "execution_count": 9,
   "metadata": {},
   "outputs": [
    {
     "data": {
      "text/plain": [
       "[False,\n",
       " False,\n",
       " True,\n",
       " False,\n",
       " False,\n",
       " False,\n",
       " False,\n",
       " False,\n",
       " False,\n",
       " False,\n",
       " False,\n",
       " False]"
      ]
     },
     "execution_count": 9,
     "metadata": {},
     "output_type": "execute_result"
    }
   ],
   "source": [
    "# Calculate List of Worst Months = if Tax After Profit == Min of Tax After profit\n",
    "\n",
    "min_year = min(tax_profit)\n",
    "\n",
    "worst_months = [tax == min_year for tax in tax_profit]\n",
    "worst_months"
   ]
  },
  {
   "cell_type": "code",
   "execution_count": 10,
   "metadata": {},
   "outputs": [
    {
     "name": "stdout",
     "output_type": "stream",
     "text": [
      "Revenue:\n",
      "[14, 7, 8, 9, 8, 8, 11, 9, 10, 14, 10, 15]\n",
      "\n",
      "Expenses:\n",
      "[12, 5, 12, 12, 8, 0, 3, 5, 6, 16, 10, 3]\n",
      "\n",
      "Profit:\n",
      "[2, 1, -3, -2, 0, 7, 8, 3, 3, -2, 0, 11]\n",
      "\n",
      "Profit After Tax:\n",
      "[1, 1, -2, -2, 0, 5, 5, 2, 2, -1, 0, 8]\n",
      "\n",
      "Profit Margin:\n",
      "[12.12, 17.59, -30.14, -22.23, -5.21, 62.74, 49.99, 28.28, 22.61, -10.9, 4.31, 52.75]\n",
      "\n",
      "Good Months:\n",
      "[True, False, False, False, False, True, True, True, True, False, False, True]\n",
      "\n",
      "Bad Months:\n",
      "[False, True, True, True, True, False, False, False, False, True, True, False]\n",
      "\n",
      "Best Months:\n",
      "[False, False, False, False, False, False, False, False, False, False, False, True]\n",
      "\n",
      "Worst Months:\n",
      "[False, False, True, False, False, False, False, False, False, False, False, False]\n",
      "\n"
     ]
    }
   ],
   "source": [
    "names = [\"Revenue\", \"Expenses\", \"Profit\", \"Profit After Tax\", \"Profit Margin\", \"Good Months\", \"Bad Months\", \"Best Months\", \"Worst Months\"]\n",
    "answer_variables = [revenue, expenses, profits, tax_profit, profit_margin, good_months, bad_months, best_months, worst_months]\n",
    "\n",
    "def convert_1000(numList):\n",
    "    \"\"\" Converts List of Numbers into 1000's unit (1k)\"\"\"\n",
    "    new_list = [int(round(num/1000, 2)) for num in numList]\n",
    "    return new_list\n",
    "\n",
    "count = 0\n",
    "for name, ans in zip(names, answer_variables):\n",
    "    # Convert to 1000's Unit (1k) if before Profit After Tax\n",
    "    if count < 4:\n",
    "        print(f\"{name}:\\n{convert_1000(ans)}\\n\")\n",
    "        count += 1\n",
    "    # Else don't convert to 1000's Unit (1k)\n",
    "    else:\n",
    "        print(f\"{name}:\\n{ans}\\n\")\n",
    "        "
   ]
  }
 ],
 "metadata": {
  "kernelspec": {
   "display_name": "Python 3",
   "language": "python",
   "name": "python3"
  },
  "language_info": {
   "codemirror_mode": {
    "name": "ipython",
    "version": 3
   },
   "file_extension": ".py",
   "mimetype": "text/x-python",
   "name": "python",
   "nbconvert_exporter": "python",
   "pygments_lexer": "ipython3",
   "version": "3.8.5"
  }
 },
 "nbformat": 4,
 "nbformat_minor": 1
}
